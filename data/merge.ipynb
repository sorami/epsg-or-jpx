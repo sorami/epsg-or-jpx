{
 "cells": [
  {
   "cell_type": "markdown",
   "metadata": {},
   "source": [
    "# EPSG コードと JPX コードのデータをマージ\n",
    "\n",
    "それぞれは `epsg.ipynb`, `jpx.ipynb` で用意した。\n"
   ]
  },
  {
   "cell_type": "code",
   "execution_count": 1,
   "metadata": {},
   "outputs": [],
   "source": [
    "import json\n",
    "import random"
   ]
  },
  {
   "cell_type": "markdown",
   "metadata": {},
   "source": [
    "## データの読み込み\n"
   ]
  },
  {
   "cell_type": "code",
   "execution_count": 2,
   "metadata": {},
   "outputs": [
    {
     "data": {
      "text/plain": [
       "6934"
      ]
     },
     "execution_count": 2,
     "metadata": {},
     "output_type": "execute_result"
    }
   ],
   "source": [
    "with open(\"./output/epsg.json\") as f:\n",
    "    epsg = json.load(f)\n",
    "len(epsg)"
   ]
  },
  {
   "cell_type": "code",
   "execution_count": 3,
   "metadata": {},
   "outputs": [
    {
     "data": {
      "text/plain": [
       "4360"
      ]
     },
     "execution_count": 3,
     "metadata": {},
     "output_type": "execute_result"
    }
   ],
   "source": [
    "with open(\"./output/jpx.json\") as f:\n",
    "    jpx = json.load(f)\n",
    "len(jpx)"
   ]
  },
  {
   "cell_type": "markdown",
   "metadata": {},
   "source": [
    "## 統合\n"
   ]
  },
  {
   "cell_type": "code",
   "execution_count": 19,
   "metadata": {},
   "outputs": [
    {
     "data": {
      "text/plain": [
       "(8672, {'epsg': 'WGS 84', 'jpx': 'インテージホールディングス'})"
      ]
     },
     "execution_count": 19,
     "metadata": {},
     "output_type": "execute_result"
    }
   ],
   "source": [
    "all_codes = {}\n",
    "\n",
    "for code in sorted(set(epsg.keys()) | set(jpx.keys())):\n",
    "    all_codes[code] = {\n",
    "        \"epsg\": epsg[code][\"name\"] if code in epsg else None,\n",
    "        \"jpx\": jpx[code][\"name\"] if code in jpx else None,\n",
    "    }\n",
    "\n",
    "len(all_codes), all_codes[\"4326\"]"
   ]
  },
  {
   "cell_type": "markdown",
   "metadata": {},
   "source": [
    "「EPSG・JPX どちらにも存在」「EPSG のみ」「JPX のみ」の 3 パターンでまとめる:\n"
   ]
  },
  {
   "cell_type": "code",
   "execution_count": 20,
   "metadata": {},
   "outputs": [
    {
     "name": "stdout",
     "output_type": "stream",
     "text": [
      "both 2622\n",
      "epsg 4312\n",
      "jpx 1738\n"
     ]
    }
   ],
   "source": [
    "all_codes_grouped = {\"both\": [], \"epsg\": [], \"jpx\": []}\n",
    "\n",
    "for code, data in all_codes.items():\n",
    "    if data[\"epsg\"] and data[\"jpx\"]:\n",
    "        group = \"both\"\n",
    "    elif data[\"epsg\"]:\n",
    "        group = \"epsg\"\n",
    "    elif data[\"jpx\"]:\n",
    "        group = \"jpx\"\n",
    "\n",
    "    all_codes_grouped[group].append(\n",
    "        {\n",
    "            \"code\": code,\n",
    "            **data,\n",
    "        }\n",
    "    )\n",
    "\n",
    "for k, v in all_codes_grouped.items():\n",
    "    print(k, len(v))"
   ]
  },
  {
   "cell_type": "code",
   "execution_count": 21,
   "metadata": {},
   "outputs": [
    {
     "data": {
      "text/plain": [
       "{'code': '8999', 'epsg': 'ITRF2008', 'jpx': 'グランディハウス'}"
      ]
     },
     "execution_count": 21,
     "metadata": {},
     "output_type": "execute_result"
    }
   ],
   "source": [
    "random.choice(all_codes_grouped[\"both\"])"
   ]
  },
  {
   "cell_type": "code",
   "execution_count": 22,
   "metadata": {},
   "outputs": [
    {
     "data": {
      "text/plain": [
       "{'code': '8683', 'epsg': 'SRB_ETRS89', 'jpx': None}"
      ]
     },
     "execution_count": 22,
     "metadata": {},
     "output_type": "execute_result"
    }
   ],
   "source": [
    "random.choice(all_codes_grouped[\"epsg\"])"
   ]
  },
  {
   "cell_type": "code",
   "execution_count": 23,
   "metadata": {},
   "outputs": [
    {
     "data": {
      "text/plain": [
       "{'code': '1452', 'epsg': None, 'jpx': '横浜ライト工業'}"
      ]
     },
     "execution_count": 23,
     "metadata": {},
     "output_type": "execute_result"
    }
   ],
   "source": [
    "random.choice(all_codes_grouped[\"jpx\"])"
   ]
  },
  {
   "cell_type": "markdown",
   "metadata": {},
   "source": [
    "## 出力\n"
   ]
  },
  {
   "cell_type": "code",
   "execution_count": 24,
   "metadata": {},
   "outputs": [],
   "source": [
    "with open(\"./output/all.json\", \"w\") as f:\n",
    "    json.dump(all_codes_grouped, f, ensure_ascii=False, indent=4)"
   ]
  },
  {
   "cell_type": "code",
   "execution_count": 25,
   "metadata": {},
   "outputs": [
    {
     "name": "stdout",
     "output_type": "stream",
     "text": [
      "{\n",
      "    \"both\": [\n",
      "        {\n",
      "            \"code\": \"2001\",\n",
      "            \"epsg\": \"Antigua 1943 / British West Indies Grid\",\n",
      "            \"jpx\": \"ニップン\"\n",
      "        },\n",
      "        {\n",
      "            \"code\": \"2002\",\n",
      "            \"epsg\": \"Dominica 1945 / British West Indies Grid\",\n",
      "            \"jpx\": \"日清製粉グループ本社\"\n",
      "        },\n",
      "        {\n",
      "            \"code\": \"2003\",\n",
      "            \"epsg\": \"Grenada 1953 / British West Indies Grid\",\n",
      "            \"jpx\": \"日東富士製粉\"\n",
      "        },\n",
      "        {\n",
      "            \"code\": \"2004\",\n",
      "            \"epsg\": \"Montserrat 1958 / British West Indies Grid\",\n"
     ]
    }
   ],
   "source": [
    "!head -20 ./output/all.json"
   ]
  },
  {
   "cell_type": "code",
   "execution_count": 26,
   "metadata": {},
   "outputs": [
    {
     "name": "stdout",
     "output_type": "stream",
     "text": [
      "-rw-r--r--  1 sorami  staff   1.1M May 21 21:05 ./output/all.json\n"
     ]
    }
   ],
   "source": [
    "!ls -alh ./output/all.json"
   ]
  }
 ],
 "metadata": {
  "kernelspec": {
   "display_name": "Python 3",
   "language": "python",
   "name": "python3"
  },
  "language_info": {
   "codemirror_mode": {
    "name": "ipython",
    "version": 3
   },
   "file_extension": ".py",
   "mimetype": "text/x-python",
   "name": "python",
   "nbconvert_exporter": "python",
   "pygments_lexer": "ipython3",
   "version": "3.12.1"
  }
 },
 "nbformat": 4,
 "nbformat_minor": 2
}
