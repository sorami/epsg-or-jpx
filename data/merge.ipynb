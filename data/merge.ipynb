{
 "cells": [
  {
   "cell_type": "markdown",
   "metadata": {},
   "source": [
    "# EPSG コードと JPX コードのデータをマージ\n",
    "\n",
    "それぞれは `epsg.ipynb`, `jpx.ipynb` で用意した。\n"
   ]
  },
  {
   "cell_type": "code",
   "execution_count": 1,
   "metadata": {},
   "outputs": [],
   "source": [
    "import json\n",
    "import random"
   ]
  },
  {
   "cell_type": "markdown",
   "metadata": {},
   "source": [
    "## データの読み込み\n"
   ]
  },
  {
   "cell_type": "code",
   "execution_count": 2,
   "metadata": {},
   "outputs": [
    {
     "data": {
      "text/plain": [
       "6934"
      ]
     },
     "execution_count": 2,
     "metadata": {},
     "output_type": "execute_result"
    }
   ],
   "source": [
    "with open(\"./output/epsg.json\") as f:\n",
    "    epsg = json.load(f)\n",
    "len(epsg)"
   ]
  },
  {
   "cell_type": "code",
   "execution_count": 3,
   "metadata": {},
   "outputs": [
    {
     "data": {
      "text/plain": [
       "4360"
      ]
     },
     "execution_count": 3,
     "metadata": {},
     "output_type": "execute_result"
    }
   ],
   "source": [
    "with open(\"./output/jpx.json\") as f:\n",
    "    jpx = json.load(f)\n",
    "len(jpx)"
   ]
  },
  {
   "cell_type": "markdown",
   "metadata": {},
   "source": [
    "## 統合\n"
   ]
  },
  {
   "cell_type": "code",
   "execution_count": 4,
   "metadata": {},
   "outputs": [
    {
     "data": {
      "text/plain": [
       "(8672, {'epsg': 'WGS 84', 'jpx': 'インテージホールディングス'})"
      ]
     },
     "execution_count": 4,
     "metadata": {},
     "output_type": "execute_result"
    }
   ],
   "source": [
    "all_codes = {}\n",
    "\n",
    "for code in sorted(set(epsg.keys()) | set(jpx.keys())):\n",
    "    all_codes[code] = {\n",
    "        \"epsg\": epsg[code][\"name\"] if code in epsg else None,\n",
    "        \"jpx\": jpx[code][\"name\"] if code in jpx else None,\n",
    "    }\n",
    "\n",
    "len(all_codes), all_codes[\"4326\"]"
   ]
  },
  {
   "cell_type": "markdown",
   "metadata": {},
   "source": [
    "「EPSG・JPX どちらにも存在」「EPSG のみ」「JPX のみ」の 3 パターンでまとめる:\n"
   ]
  },
  {
   "cell_type": "code",
   "execution_count": 5,
   "metadata": {},
   "outputs": [
    {
     "name": "stdout",
     "output_type": "stream",
     "text": [
      "both 2622\n",
      "epsg 4312\n",
      "jpx 1738\n"
     ]
    }
   ],
   "source": [
    "all_codes_grouped = {\"both\": [], \"epsg\": [], \"jpx\": []}\n",
    "\n",
    "for code, data in all_codes.items():\n",
    "    if data[\"epsg\"] and data[\"jpx\"]:\n",
    "        group = \"both\"\n",
    "    elif data[\"epsg\"]:\n",
    "        group = \"epsg\"\n",
    "    elif data[\"jpx\"]:\n",
    "        group = \"jpx\"\n",
    "\n",
    "    all_codes_grouped[group].append(\n",
    "        {\n",
    "            \"code\": code,\n",
    "            **data,\n",
    "        }\n",
    "    )\n",
    "\n",
    "for k, v in all_codes_grouped.items():\n",
    "    print(k, len(v))"
   ]
  },
  {
   "cell_type": "code",
   "execution_count": 6,
   "metadata": {},
   "outputs": [
    {
     "data": {
      "text/plain": [
       "{'code': '6616',\n",
       " 'epsg': 'NAD83(2011) / Wyoming West (ftUS)',\n",
       " 'jpx': 'トレックス・セミコンダクター'}"
      ]
     },
     "execution_count": 6,
     "metadata": {},
     "output_type": "execute_result"
    }
   ],
   "source": [
    "random.choice(all_codes_grouped[\"both\"])"
   ]
  },
  {
   "cell_type": "code",
   "execution_count": 7,
   "metadata": {},
   "outputs": [
    {
     "data": {
      "text/plain": [
       "{'code': '3260', 'epsg': 'WGS 84 / SCAR IMW ST01-04', 'jpx': None}"
      ]
     },
     "execution_count": 7,
     "metadata": {},
     "output_type": "execute_result"
    }
   ],
   "source": [
    "random.choice(all_codes_grouped[\"epsg\"])"
   ]
  },
  {
   "cell_type": "code",
   "execution_count": 8,
   "metadata": {},
   "outputs": [
    {
     "data": {
      "text/plain": [
       "{'code': '6898', 'epsg': None, 'jpx': 'トミタ電機'}"
      ]
     },
     "execution_count": 8,
     "metadata": {},
     "output_type": "execute_result"
    }
   ],
   "source": [
    "random.choice(all_codes_grouped[\"jpx\"])"
   ]
  },
  {
   "cell_type": "markdown",
   "metadata": {},
   "source": [
    "## 4 桁の数字のみ\n",
    "\n",
    "ゲーム性を考慮し、候補を絞る（例えば 5 桁が出てきたら、これは証券コードではないとすぐわかってしまうため）。\n",
    "\n",
    "- 5 桁の EPSG コード\n",
    "- 5 桁の証券コード\n",
    "- 4 桁の証券コードで、数字のみではないもの\n",
    "\n",
    "が除外される。\n"
   ]
  },
  {
   "cell_type": "code",
   "execution_count": 9,
   "metadata": {},
   "outputs": [
    {
     "name": "stdout",
     "output_type": "stream",
     "text": [
      "Counter({4: 2497, 5: 1815})\n",
      "Counter({4: 1736, 5: 2})\n"
     ]
    }
   ],
   "source": [
    "from collections import Counter\n",
    "\n",
    "print(Counter([len(c[\"code\"]) for c in all_codes_grouped[\"epsg\"]]))\n",
    "print(Counter([len(c[\"code\"]) for c in all_codes_grouped[\"jpx\"]]))"
   ]
  },
  {
   "cell_type": "code",
   "execution_count": 10,
   "metadata": {},
   "outputs": [
    {
     "data": {
      "text/plain": [
       "[{'code': '130A', 'epsg': None, 'jpx': 'Veritas In Silico'},\n",
       " {'code': '131A', 'epsg': None, 'jpx': 'CCNグループ'},\n",
       " {'code': '132A', 'epsg': None, 'jpx': 'アイエヌホールディングス'},\n",
       " {'code': '133A', 'epsg': None, 'jpx': 'グローバルX 超短期米国債 ETF'},\n",
       " {'code': '134A', 'epsg': None, 'jpx': 'アプライズ'}]"
      ]
     },
     "execution_count": 10,
     "metadata": {},
     "output_type": "execute_result"
    }
   ],
   "source": [
    "[c for c in all_codes_grouped[\"jpx\"] if not c[\"code\"].isdigit()][:5]"
   ]
  },
  {
   "cell_type": "code",
   "execution_count": 11,
   "metadata": {},
   "outputs": [
    {
     "name": "stdout",
     "output_type": "stream",
     "text": [
      "both 2622\n",
      "epsg 2497\n",
      "jpx 1683\n"
     ]
    }
   ],
   "source": [
    "all_codes_grouped_4_digits = {}\n",
    "\n",
    "for g in [\"both\", \"epsg\", \"jpx\"]:\n",
    "    all_codes_grouped_4_digits[g] = [\n",
    "        c for c in all_codes_grouped[g] if c[\"code\"].isdigit() and len(c[\"code\"]) == 4\n",
    "    ]\n",
    "\n",
    "\n",
    "for k, v in all_codes_grouped_4_digits.items():\n",
    "    print(k, len(v))"
   ]
  },
  {
   "cell_type": "markdown",
   "metadata": {},
   "source": [
    "## 出力\n"
   ]
  },
  {
   "cell_type": "code",
   "execution_count": 12,
   "metadata": {},
   "outputs": [],
   "source": [
    "with open(\"./output/all.json\", \"w\") as f:\n",
    "    json.dump(all_codes_grouped, f, ensure_ascii=False, indent=4)"
   ]
  },
  {
   "cell_type": "code",
   "execution_count": 13,
   "metadata": {},
   "outputs": [],
   "source": [
    "with open(\"./output/all_4digits.json\", \"w\") as f:\n",
    "    json.dump(all_codes_grouped_4_digits, f, ensure_ascii=False, indent=4)"
   ]
  },
  {
   "cell_type": "code",
   "execution_count": 14,
   "metadata": {},
   "outputs": [
    {
     "name": "stdout",
     "output_type": "stream",
     "text": [
      "-rw-r--r--  1 sorami  staff   1.1M May 22 09:43 ./output/all.json\n",
      "-rw-r--r--  1 sorami  staff   871K May 22 09:43 ./output/all_4digits.json\n",
      "-rw-r--r--  1 sorami  staff   2.1M May 21 21:01 ./output/epsg.json\n",
      "-rw-r--r--  1 sorami  staff   644K May 21 13:43 ./output/jpx.json\n"
     ]
    }
   ],
   "source": [
    "!ls -lh ./output/*.json"
   ]
  },
  {
   "cell_type": "code",
   "execution_count": 15,
   "metadata": {},
   "outputs": [
    {
     "name": "stdout",
     "output_type": "stream",
     "text": [
      "{\n",
      "    \"both\": [\n",
      "        {\n",
      "            \"code\": \"2001\",\n",
      "            \"epsg\": \"Antigua 1943 / British West Indies Grid\",\n",
      "            \"jpx\": \"ニップン\"\n",
      "        },\n",
      "        {\n",
      "            \"code\": \"2002\",\n",
      "            \"epsg\": \"Dominica 1945 / British West Indies Grid\",\n"
     ]
    }
   ],
   "source": [
    "!head ./output/all.json"
   ]
  },
  {
   "cell_type": "code",
   "execution_count": 16,
   "metadata": {},
   "outputs": [
    {
     "name": "stdout",
     "output_type": "stream",
     "text": [
      "{\n",
      "    \"both\": [\n",
      "        {\n",
      "            \"code\": \"2001\",\n",
      "            \"epsg\": \"Antigua 1943 / British West Indies Grid\",\n",
      "            \"jpx\": \"ニップン\"\n",
      "        },\n",
      "        {\n",
      "            \"code\": \"2002\",\n",
      "            \"epsg\": \"Dominica 1945 / British West Indies Grid\",\n"
     ]
    }
   ],
   "source": [
    "!head ./output/all_4digits.json"
   ]
  }
 ],
 "metadata": {
  "kernelspec": {
   "display_name": "Python 3",
   "language": "python",
   "name": "python3"
  },
  "language_info": {
   "codemirror_mode": {
    "name": "ipython",
    "version": 3
   },
   "file_extension": ".py",
   "mimetype": "text/x-python",
   "name": "python",
   "nbconvert_exporter": "python",
   "pygments_lexer": "ipython3",
   "version": "3.12.1"
  }
 },
 "nbformat": 4,
 "nbformat_minor": 2
}
